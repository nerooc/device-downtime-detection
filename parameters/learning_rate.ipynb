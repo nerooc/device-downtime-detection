{
  "cells": [
    {
      "cell_type": "code",
      "execution_count": 6,
      "metadata": {
        "id": "GZiBWk-JS2KN"
      },
      "outputs": [],
      "source": [
        "# By zaimportować moduły z głównego folderu\n",
        "%cd .."
      ]
    },
    {
      "cell_type": "code",
      "execution_count": 99,
      "metadata": {
        "colab": {
          "base_uri": "https://localhost:8080/"
        },
        "id": "WssRkJ4wZCxt",
        "outputId": "c5cc32ae-fbd1-4550-e7f7-bf1d468a9a1a"
      },
      "outputs": [
        {
          "name": "stderr",
          "output_type": "stream",
          "text": [
            "/usr/local/lib/python3.7/dist-packages/ipykernel_launcher.py:9: DeprecationWarning: KerasClassifier is deprecated, use Sci-Keras (https://github.com/adriangb/scikeras) instead. See https://www.adriangb.com/scikeras/stable/migration.html for help migrating.\n",
            "  if __name__ == '__main__':\n"
          ]
        },
        {
          "name": "stdout",
          "output_type": "stream",
          "text": [
            "Best: 0.938415 using {'learning_rate': 0.001}\n"
          ]
        }
      ],
      "source": [
        "import import_ipynb\n",
        "\n",
        "from sklearn.model_selection import GridSearchCV\n",
        "from keras.wrappers.scikit_learn import KerasClassifier\n",
        "from models.best_model import create_model\n",
        "\n",
        "from data_preprocessing import split_working_faulty_blocks, time_chunks_split, train_test_split_with_reshape\n",
        "\n",
        "working_blocks_df, faulty_blocks_df = split_working_faulty_blocks(True)\n",
        "\n",
        "learning_rates = [0.0005, 0.001, 0.003, 0.005, 0.007, 0.01]\n",
        "param_grid = dict(learning_rate=learning_rates)\n",
        "\n",
        "X, y = time_chunks_split(working_blocks_df, faulty_blocks_df, chunk_size=3)\n",
        "X_train, X_test, y_train, y_test = train_test_split_with_reshape(X, y)\n",
        "\n",
        "model = KerasClassifier(build_fn=create_model, epochs=100, verbose=0)\n",
        "grid = GridSearchCV(estimator=model, param_grid=param_grid, n_jobs=-1, cv=5, scoring='accuracy')\n",
        "\n",
        "grid_result = grid.fit(X_train, y_train)\n",
        "\n",
        "print(\"Best: %f using %s\" % (grid_result.best_score_, grid_result.best_params_))"
      ]
    }
  ],
  "metadata": {
    "colab": {
      "collapsed_sections": [],
      "name": "Untitled1.ipynb",
      "provenance": []
    },
    "kernelspec": {
      "display_name": "Python 3",
      "name": "python3"
    },
    "language_info": {
      "name": "python"
    }
  },
  "nbformat": 4,
  "nbformat_minor": 0
}
