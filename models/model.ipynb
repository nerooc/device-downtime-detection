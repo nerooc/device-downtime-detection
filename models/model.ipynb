{
 "cells": [
  {
   "cell_type": "code",
   "execution_count": null,
   "metadata": {},
   "outputs": [],
   "source": [
    "from keras.models import Sequential\n",
    "from keras.layers import SimpleRNN, Dense, Dropout\n",
    "import tensorflow as tf\n",
    "\n",
    "def create_model(learning_rate=0.01, chunk_size=3):\n",
    "  model = Sequential()\n",
    "  model.add(SimpleRNN(64, input_shape=(chunk_size, 9), activation='relu', return_sequences=True))\n",
    "  model.add(Dropout(0.3))\n",
    "  model.add(SimpleRNN(32, activation='relu', return_sequences=True))\n",
    "  model.add(Dropout(0.2))\n",
    "  model.add(SimpleRNN(16, activation='relu', return_sequences=False))\n",
    "\n",
    "  model.add(Dense(units=1, activation=tf.keras.activations.sigmoid))\n",
    "  opt = tf.optimizers.Adam(learning_rate=learning_rate)\n",
    "  model.compile(loss='binary_crossentropy', optimizer=opt, metrics=['accuracy'])\n",
    "\n",
    "  return model"
   ]
  }
 ],
 "metadata": {
  "language_info": {
   "name": "python"
  },
  "orig_nbformat": 4
 },
 "nbformat": 4,
 "nbformat_minor": 2
}
