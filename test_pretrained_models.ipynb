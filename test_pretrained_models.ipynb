{
  "nbformat": 4,
  "nbformat_minor": 0,
  "metadata": {
    "colab": {
      "name": "test_pretrained_models.ipynb",
      "provenance": [],
      "collapsed_sections": []
    },
    "kernelspec": {
      "name": "python3",
      "display_name": "Python 3"
    },
    "language_info": {
      "name": "python"
    }
  },
  "cells": [
    {
      "cell_type": "code",
      "source": [
        "import pandas as pd\n",
        "import numpy as np\n",
        "\n",
        "import matplotlib.pyplot as plt\n",
        "import seaborn as sns\n",
        "\n",
        "import tensorflow as tf\n",
        "from tensorflow import keras\n",
        "from keras.models import Sequential\n",
        "from keras.layers import SimpleRNN, Dense, Dropout\n",
        "from sklearn.model_selection import train_test_split"
      ],
      "metadata": {
        "id": "aRgZIpU8vq03"
      },
      "execution_count": 11,
      "outputs": []
    },
    {
      "cell_type": "code",
      "source": [
        "# Zminimalizowane funkcje do przetworzenia danych wejściowych zawarte w pliku\n",
        "# data_processing.py - użyte by uniezależnić ten plik od reszty repozytorium\n",
        "\n",
        "def load_data_from_file(file_name):\n",
        "    data = pd.read_csv('data/{0}'.format(file_name), header=None).to_numpy()\n",
        "    COLUMNWISE = 1\n",
        "    data = np.delete(data, obj=0, axis=COLUMNWISE)\n",
        "    return data\n",
        "\n",
        "def load_all_data(num_of_iters):\n",
        "  data_blocks = []\n",
        "  for i in range(num_of_iters):\n",
        "    file_index = i + 1\n",
        "    file_name_normal = f'data{file_index}_normal.csv'\n",
        "    file_name_fault = f'data{file_index}_fault.csv'\n",
        "    normal_data_block = [load_data_from_file(file_name_normal), 1]\n",
        "    fault_data_block = [load_data_from_file(file_name_fault), 0]\n",
        "    data_blocks.append(normal_data_block)\n",
        "    data_blocks.append(fault_data_block)\n",
        "  return data_blocks\n",
        "\n",
        "def normalize_data(df):\n",
        "  for column in df:\n",
        "    df[column] = df[column] / df[column].max()\n",
        "  return df\n",
        "\n",
        "def split_working_faulty_blocks(normalized=False):\n",
        "  data_blocks = load_all_data(num_of_iters=53)\n",
        "  data_fault_last = pd.read_csv('data/data54_fault.csv', header=None).to_numpy()\n",
        "  COLUMNWISE = 1\n",
        "  data_fault_last = np.delete(data_fault_last, obj=0, axis=COLUMNWISE)\n",
        "  data_blocks.append([data_fault_last, 0])\n",
        "  working_blocks = [block[0] for block in data_blocks if block[1] == 1]\n",
        "  faulty_blocks = [block[0] for block in data_blocks if block[1] == 0]\n",
        "  working_blocks_np = working_blocks[0].copy()\n",
        "  faulty_blocks_np = faulty_blocks[0].copy()\n",
        "  for i in range(len(working_blocks) - 1):\n",
        "    real_index = i + 1\n",
        "    working_blocks_np = np.concatenate((working_blocks_np, working_blocks[real_index]), axis=0)\n",
        "  for i in range(len(faulty_blocks) - 1):\n",
        "    real_index = i + 1\n",
        "    faulty_blocks_np = np.concatenate((faulty_blocks_np, faulty_blocks[real_index]), axis=0)\n",
        "  working_blocks_df = pd.DataFrame(working_blocks_np)\n",
        "  faulty_blocks_df = pd.DataFrame(faulty_blocks_np)\n",
        "  if normalized:\n",
        "    return (normalize_data(working_blocks_df), normalize_data(faulty_blocks_df))\n",
        "  return (working_blocks_df,faulty_blocks_df)\n",
        "\n",
        "def time_chunks_split(working_blocks_df, faulty_blocks_df, chunk_size=1):\n",
        "  working_blocks_rest = len(working_blocks_df) % chunk_size\n",
        "  faulty_blocks_rest = len(faulty_blocks_df) % chunk_size\n",
        "  if (working_blocks_rest is not 0):\n",
        "    working_blocks_df_v2 = working_blocks_df[:-working_blocks_rest]\n",
        "  else:\n",
        "    working_blocks_df_v2 = working_blocks_df[:]\n",
        "  if (faulty_blocks_rest is not 0):\n",
        "    faulty_blocks_df_v2 = faulty_blocks_df[:-faulty_blocks_rest]\n",
        "  else:\n",
        "    faulty_blocks_df_v2 = faulty_blocks_df[:]\n",
        "  working_blocks_packets_df = np.array_split(working_blocks_df_v2, int(len(working_blocks_df_v2) / chunk_size))\n",
        "  faulty_blocks_packets_df = np.array_split(faulty_blocks_df_v2, int(len(faulty_blocks_df_v2) / chunk_size))\n",
        "  working_blocks_packets_with_class = []\n",
        "  for i in range(len(working_blocks_packets_df)):\n",
        "    working_blocks_packets_with_class.append( [working_blocks_packets_df[i].to_numpy(), 1] )\n",
        "  faulty_blocks_packets_with_class = []\n",
        "  for i in range(len(faulty_blocks_packets_df)):\n",
        "    faulty_blocks_packets_with_class.append( [faulty_blocks_packets_df[i].to_numpy(), 0] )\n",
        "  input_list_completed = working_blocks_packets_with_class.copy()\n",
        "  input_list_completed.extend(faulty_blocks_packets_with_class)\n",
        "  X = []\n",
        "  y = []\n",
        "  for i in range(len(input_list_completed)):\n",
        "    X.append(input_list_completed[i][0])\n",
        "    y.append(input_list_completed[i][1])\n",
        "  return X, y\n",
        "\n",
        "def train_test_split_with_reshape(X, y, test_size=0.25):\n",
        "  X_train, X_test, y_train, y_test = train_test_split(X, y, test_size=test_size)\n",
        "  X_train = np.array(X_train, dtype=float)\n",
        "  X_test = np.array(X_test, dtype=float)\n",
        "  y_train = np.array(y_train, dtype=float).reshape(len(y_train), 1) \n",
        "  y_test = np.array(y_test, dtype=float).reshape((len(y_test), 1))\n",
        "  return X_train, X_test, y_train, y_test\n"
      ],
      "metadata": {
        "id": "3NMXiMmPunVV"
      },
      "execution_count": 14,
      "outputs": []
    },
    {
      "cell_type": "code",
      "source": [
        "# Dzielimy na bloki działające i awaryjne\n",
        "working_blocks_df, faulty_blocks_df = split_working_faulty_blocks(True)\n",
        "\n",
        "# Ustawiamy chunk_size na naszą optymalną wielkość\n",
        "chunk_size = 8\n",
        "\n",
        "# Zmieniamy wielkość wykresu\n",
        "plt.figure(figsize=[21, 9])\n",
        "\n",
        "# Funkcja tworząca macierz pomyłek, dzięki której ocenimy skuteczność modelu\n",
        "def create_confusion_matrix(predictions, y):\n",
        "  confusion_matrix=np.zeros((2, 2))\n",
        "\n",
        "  for i in range(len(predictions)):\n",
        "    class_prediction = 0\n",
        "    if predictions[i] >= 0.5:\n",
        "      class_prediction = 1\n",
        "\n",
        "    if class_prediction == y[i]:\n",
        "      confusion_matrix[class_prediction][class_prediction] += 1\n",
        "    else:\n",
        "      confusion_matrix[(class_prediction + 1) % 2][class_prediction] += 1\n",
        "\n",
        "  return confusion_matrix\n",
        "\n",
        "# Funkcja wykorzystująca przetrenowany model do przetestowania na zbiorze danych\n",
        "def test_pretrained_model(model):\n",
        "  X, y = time_chunks_split(working_blocks_df, faulty_blocks_df, chunk_size=chunk_size)\n",
        "  X_train, X_test, y_train, y_test = train_test_split_with_reshape(X, y)\n",
        "  \n",
        "  predictions = model.predict(X_test)\n",
        "  confusion_matrix = create_confusion_matrix(predictions, y_test)\n",
        "\n",
        "  print(f'ACCURACY: {(confusion_matrix[0][0] + confusion_matrix[1][1]) / len(y_test) * 100}')\n",
        "\n",
        "  sns.heatmap(confusion_matrix, annot=True)\n",
        "\n",
        "# Ładujemy model i testujemy za pomcą stworzonej funkcji\n",
        "# Wystarczy zmienić nazwę pliku na jedną z istniejących topologii \n",
        "# np. best_model.hdf5 -> model_topology_3.hdf5\n",
        "model = keras.models.load_model('./pretrained_models/best_model.hdf5')\n",
        "test_pretrained_model(model)"
      ],
      "metadata": {
        "colab": {
          "base_uri": "https://localhost:8080/",
          "height": 529
        },
        "id": "VYlQQJANxFgH",
        "outputId": "b80d41d3-c2bb-4c22-9d86-f674088a425b"
      },
      "execution_count": 15,
      "outputs": [
        {
          "output_type": "stream",
          "name": "stdout",
          "text": [
            "ACCURACY: 91.34615384615384\n"
          ]
        },
        {
          "output_type": "display_data",
          "data": {
            "text/plain": [
              "<Figure size 1512x648 with 2 Axes>"
            ],
            "image/png": "[encoded data removed]"
          },
          "metadata": {
            "needs_background": "light"
          }
        }
      ]
    }
  ]
}