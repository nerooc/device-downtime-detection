{
 "cells": [
  {
   "cell_type": "code",
   "execution_count": 16,
   "metadata": {},
   "outputs": [],
   "source": [
    "import pandas as pd\n",
    "import numpy as np"
   ]
  },
  {
   "cell_type": "markdown",
   "metadata": {},
   "source": [
    "## Ładowanie i przetwarzanie danych wejściowych"
   ]
  },
  {
   "cell_type": "code",
   "execution_count": 17,
   "metadata": {},
   "outputs": [],
   "source": [
    "# Funkcja służąca do wczytania danych z wybranego pliku\n",
    "def load_data_from_file(file_name):\n",
    "    # Ładujemy nasze dane z repozytorium na GitHub\n",
    "    data = pd.read_csv('data/{0}'.format(file_name), header=None).to_numpy()\n",
    "    \n",
    "    # Nie potrzebujemy indeksów 1, 2, 3, 4... itp., więc usuwamy pierwszą kolumnę\n",
    "    COLUMNWISE = 1\n",
    "    data = np.delete(data, obj=0, axis=COLUMNWISE)\n",
    "\n",
    "    return data\n",
    "\n",
    "# Funkcja służąca do wczytania wszystkich danych\n",
    "def load_all_data(num_of_iters):\n",
    "  # W tej liście przechowywać będziemy wszystkie dane z urządzenia\n",
    "  data_blocks = []\n",
    "\n",
    "  # Manipulacja danymi, żeby w każdej iteracji wczytać dane zarówno z pliku normal\n",
    "  # jak i z pliku fault\n",
    "  for i in range(num_of_iters):\n",
    "    file_index = i + 1\n",
    "    file_name_normal = f'data{file_index}_normal.csv'\n",
    "    file_name_fault = f'data{file_index}_fault.csv'\n",
    "\n",
    "    # Dodatkowe wskazanie, że to odczyt dla działającego urządzenia (1)\n",
    "    normal_data_block = [load_data_from_file(file_name_normal), 1]\n",
    "    # Dodatkowe wskazanie, że to odczyt dla niedziałającego urządzenia (0)\n",
    "    fault_data_block = [load_data_from_file(file_name_fault), 0]\n",
    "\n",
    "    # Dodajemy te pakiety odczytów w każdej iteracji do wszystkich odczytów\n",
    "    data_blocks.append(normal_data_block)\n",
    "    data_blocks.append(fault_data_block)\n",
    "\n",
    "  return data_blocks"
   ]
  },
  {
   "cell_type": "markdown",
   "metadata": {},
   "source": [
    "## Normalizacja i podział danych"
   ]
  },
  {
   "cell_type": "code",
   "execution_count": 18,
   "metadata": {},
   "outputs": [],
   "source": [
    "# Funkcja normalizująca dataframe'y\n",
    "def normalize_data(df):\n",
    "  for column in df:\n",
    "    df[column] = df[column] / df[column].max()\n",
    "  return df\n",
    "\n",
    "# Funkcja dzieląca dane na znormalizowane bloki działające i awaryjne\n",
    "def split_working_faulty_blocks(normalized=False):\n",
    "  # Wczytujemy dane\n",
    "  # Jest 54 dla fault i 53 dla normal, ale wczytamy jedno mniej dla symetrii\n",
    "  data_blocks = load_all_data(num_of_iters=53)\n",
    "  # Dodajmy ostatni blok danych\n",
    "  data_fault_last = pd.read_csv('data/data54_fault.csv', header=None).to_numpy()\n",
    "  # Nie potrzebujemy indeksów 1, 2, 3, 4... itp., więc usuwamy pierwszą kolumnę\n",
    "  COLUMNWISE = 1\n",
    "  data_fault_last = np.delete(data_fault_last, obj=0, axis=COLUMNWISE)\n",
    "  data_blocks.append([data_fault_last, 0])\n",
    "\n",
    "  # Bloki działających urządzeń\n",
    "  working_blocks = [block[0] for block in data_blocks if block[1] == 1]\n",
    "\n",
    "  # Bloki niedziałających urządzeń\n",
    "  faulty_blocks = [block[0] for block in data_blocks if block[1] == 0]\n",
    "\n",
    "  working_blocks_np = working_blocks[0].copy()\n",
    "  faulty_blocks_np = faulty_blocks[0].copy()\n",
    "\n",
    "  for i in range(len(working_blocks) - 1):\n",
    "    real_index = i + 1\n",
    "    working_blocks_np = np.concatenate((working_blocks_np, working_blocks[real_index]), axis=0)\n",
    "\n",
    "  for i in range(len(faulty_blocks) - 1):\n",
    "    real_index = i + 1\n",
    "    faulty_blocks_np = np.concatenate((faulty_blocks_np, faulty_blocks[real_index]), axis=0)\n",
    "\n",
    "  working_blocks_df = pd.DataFrame(working_blocks_np)\n",
    "  faulty_blocks_df = pd.DataFrame(faulty_blocks_np)\n",
    " \n",
    "  if normalized:\n",
    "    return (normalize_data(working_blocks_df), normalize_data(faulty_blocks_df))\n",
    "\n",
    "  return (working_blocks_df,faulty_blocks_df)\n"
   ]
  },
  {
   "cell_type": "markdown",
   "metadata": {},
   "source": [
    "## Test działania metod"
   ]
  },
  {
   "cell_type": "code",
   "execution_count": 19,
   "metadata": {},
   "outputs": [],
   "source": [
    "# print(split_working_faulty_blocks())"
   ]
  }
 ],
 "metadata": {
  "interpreter": {
   "hash": "397704579725e15f5c7cb49fe5f0341eb7531c82d19f2c29d197e8b64ab5776b"
  },
  "kernelspec": {
   "display_name": "Python 3.9.13 64-bit",
   "language": "python",
   "name": "python3"
  },
  "language_info": {
   "codemirror_mode": {
    "name": "ipython",
    "version": 3
   },
   "file_extension": ".py",
   "mimetype": "text/x-python",
   "name": "python",
   "nbconvert_exporter": "python",
   "pygments_lexer": "ipython3",
   "version": "3.9.13"
  },
  "orig_nbformat": 4
 },
 "nbformat": 4,
 "nbformat_minor": 2
}
