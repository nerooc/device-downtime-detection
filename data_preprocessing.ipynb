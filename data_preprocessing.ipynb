{
 "cells": [
  {
   "cell_type": "code",
   "execution_count": 1,
   "metadata": {},
   "outputs": [
    {
     "ename": "ModuleNotFoundError",
     "evalue": "No module named 'pandas'",
     "output_type": "error",
     "traceback": [
      "\u001b[1;31m---------------------------------------------------------------------------\u001b[0m",
      "\u001b[1;31mModuleNotFoundError\u001b[0m                       Traceback (most recent call last)",
      "\u001b[1;32m~\\AppData\\Local\\Temp\\ipykernel_27740\\2162656668.py\u001b[0m in \u001b[0;36m<module>\u001b[1;34m\u001b[0m\n\u001b[1;32m----> 1\u001b[1;33m \u001b[1;32mimport\u001b[0m \u001b[0mpandas\u001b[0m \u001b[1;32mas\u001b[0m \u001b[0mpd\u001b[0m\u001b[1;33m\u001b[0m\u001b[1;33m\u001b[0m\u001b[0m\n\u001b[0m\u001b[0;32m      2\u001b[0m \u001b[1;32mimport\u001b[0m \u001b[0mnumpy\u001b[0m \u001b[1;32mas\u001b[0m \u001b[0mnp\u001b[0m\u001b[1;33m\u001b[0m\u001b[1;33m\u001b[0m\u001b[0m\n",
      "\u001b[1;31mModuleNotFoundError\u001b[0m: No module named 'pandas'"
     ]
    }
   ],
   "source": [
    "import pandas as pd\n",
    "import numpy as np"
   ]
  },
  {
   "cell_type": "markdown",
   "metadata": {},
   "source": [
    "## Ładowanie i przetwarzanie danych wejściowych"
   ]
  },
  {
   "cell_type": "code",
   "execution_count": 17,
   "metadata": {},
   "outputs": [],
   "source": [
    "# Funkcja służąca do wczytania danych z wybranego pliku\n",
    "def load_data_from_file(file_name):\n",
    "    # Ładujemy nasze dane z repozytorium na GitHub\n",
    "    data = pd.read_csv('data/{0}'.format(file_name), header=None).to_numpy()\n",
    "    \n",
    "    # Nie potrzebujemy indeksów 1, 2, 3, 4... itp., więc usuwamy pierwszą kolumnę\n",
    "    COLUMNWISE = 1\n",
    "    data = np.delete(data, obj=0, axis=COLUMNWISE)\n",
    "\n",
    "    return data\n",
    "\n",
    "# Funkcja służąca do wczytania wszystkich danych\n",
    "def load_all_data(num_of_iters):\n",
    "  # W tej liście przechowywać będziemy wszystkie dane z urządzenia\n",
    "  data_blocks = []\n",
    "\n",
    "  # Manipulacja danymi, żeby w każdej iteracji wczytać dane zarówno z pliku normal\n",
    "  # jak i z pliku fault\n",
    "  for i in range(num_of_iters):\n",
    "    file_index = i + 1\n",
    "    file_name_normal = f'data{file_index}_normal.csv'\n",
    "    file_name_fault = f'data{file_index}_fault.csv'\n",
    "\n",
    "    # Dodatkowe wskazanie, że to odczyt dla działającego urządzenia (1)\n",
    "    normal_data_block = [load_data_from_file(file_name_normal), 1]\n",
    "    # Dodatkowe wskazanie, że to odczyt dla niedziałającego urządzenia (0)\n",
    "    fault_data_block = [load_data_from_file(file_name_fault), 0]\n",
    "\n",
    "    # Dodajemy te pakiety odczytów w każdej iteracji do wszystkich odczytów\n",
    "    data_blocks.append(normal_data_block)\n",
    "    data_blocks.append(fault_data_block)\n",
    "\n",
    "  return data_blocks"
   ]
  },
  {
   "cell_type": "markdown",
   "metadata": {},
   "source": [
    "## Normalizacja i podział danych"
   ]
  },
  {
   "cell_type": "code",
   "execution_count": 18,
   "metadata": {},
   "outputs": [],
   "source": [
    "# Funkcja normalizująca dataframe'y\n",
    "def normalize_data(df):\n",
    "  for column in df:\n",
    "    df[column] = df[column] / df[column].max()\n",
    "  return df\n",
    "\n",
    "# Funkcja dzieląca dane na znormalizowane bloki działające i awaryjne\n",
    "def split_working_faulty_blocks(normalized=False):\n",
    "  # Wczytujemy dane\n",
    "  # Jest 54 dla fault i 53 dla normal, ale wczytamy jedno mniej dla symetrii\n",
    "  data_blocks = load_all_data(num_of_iters=53)\n",
    "  # Dodajmy ostatni blok danych\n",
    "  data_fault_last = pd.read_csv('data/data54_fault.csv', header=None).to_numpy()\n",
    "  # Nie potrzebujemy indeksów 1, 2, 3, 4... itp., więc usuwamy pierwszą kolumnę\n",
    "  COLUMNWISE = 1\n",
    "  data_fault_last = np.delete(data_fault_last, obj=0, axis=COLUMNWISE)\n",
    "  data_blocks.append([data_fault_last, 0])\n",
    "\n",
    "  # Bloki działających urządzeń\n",
    "  working_blocks = [block[0] for block in data_blocks if block[1] == 1]\n",
    "\n",
    "  # Bloki niedziałających urządzeń\n",
    "  faulty_blocks = [block[0] for block in data_blocks if block[1] == 0]\n",
    "\n",
    "  working_blocks_np = working_blocks[0].copy()\n",
    "  faulty_blocks_np = faulty_blocks[0].copy()\n",
    "\n",
    "  for i in range(len(working_blocks) - 1):\n",
    "    real_index = i + 1\n",
    "    working_blocks_np = np.concatenate((working_blocks_np, working_blocks[real_index]), axis=0)\n",
    "\n",
    "  for i in range(len(faulty_blocks) - 1):\n",
    "    real_index = i + 1\n",
    "    faulty_blocks_np = np.concatenate((faulty_blocks_np, faulty_blocks[real_index]), axis=0)\n",
    "\n",
    "  working_blocks_df = pd.DataFrame(working_blocks_np)\n",
    "  faulty_blocks_df = pd.DataFrame(faulty_blocks_np)\n",
    " \n",
    "  if normalized:\n",
    "    return (normalize_data(working_blocks_df), normalize_data(faulty_blocks_df))\n",
    "\n",
    "  return (working_blocks_df,faulty_blocks_df)\n"
   ]
  },
  {
   "cell_type": "markdown",
   "metadata": {},
   "source": [
    "## Podział danych na szeregi chwil czasowych"
   ]
  },
  {
   "cell_type": "code",
   "execution_count": null,
   "metadata": {},
   "outputs": [],
   "source": [
    "from sklearn.model_selection import train_test_split\n",
    "\n",
    "def time_chunks_split(working_blocks_df, faulty_blocks_df, chunk_size=1):\n",
    "  working_blocks_rest = len(working_blocks_df) % chunk_size\n",
    "  faulty_blocks_rest = len(faulty_blocks_df) % chunk_size\n",
    "\n",
    "  if (working_blocks_rest is not 0):\n",
    "    working_blocks_df_v2 = working_blocks_df[:-working_blocks_rest]\n",
    "  else:\n",
    "    working_blocks_df_v2 = working_blocks_df[:]\n",
    "\n",
    "  if (faulty_blocks_rest is not 0):\n",
    "    faulty_blocks_df_v2 = faulty_blocks_df[:-faulty_blocks_rest]\n",
    "  else:\n",
    "    faulty_blocks_df_v2 = faulty_blocks_df[:]\n",
    "\n",
    "  working_blocks_packets_df = np.array_split(working_blocks_df_v2, int(len(working_blocks_df_v2) / chunk_size))\n",
    "  faulty_blocks_packets_df = np.array_split(faulty_blocks_df_v2, int(len(faulty_blocks_df_v2) / chunk_size))\n",
    "\n",
    "  # dodajmy klasy zeby bylo wiadomo co jest czym -> nim przemieszamy pomiedzy klasami\n",
    "  working_blocks_packets_with_class = []\n",
    "\n",
    "  for i in range(len(working_blocks_packets_df)):\n",
    "    working_blocks_packets_with_class.append( [working_blocks_packets_df[i].to_numpy(), 1] )\n",
    "\n",
    "  faulty_blocks_packets_with_class = []\n",
    "\n",
    "  for i in range(len(faulty_blocks_packets_df)):\n",
    "    faulty_blocks_packets_with_class.append( [faulty_blocks_packets_df[i].to_numpy(), 0] )\n",
    "\n",
    "  input_list_completed = working_blocks_packets_with_class.copy()\n",
    "  input_list_completed.extend(faulty_blocks_packets_with_class)\n",
    "\n",
    "  # przemieszajmy dane po zlaczeniu\n",
    "  # input_list_completed = shuffle(input_list_completed)\n",
    "\n",
    "  X = []\n",
    "  y = []\n",
    "\n",
    "  for i in range(len(input_list_completed)):\n",
    "    X.append(input_list_completed[i][0])\n",
    "    y.append(input_list_completed[i][1])\n",
    "\n",
    "  return X, y\n",
    "\n",
    "\n",
    "def train_test_split_with_reshape(X, y, test_size=0.25):\n",
    "  X_train, X_test, y_train, y_test = train_test_split(X, y, test_size=test_size)\n",
    "\n",
    "  X_train = np.array(X_train, dtype=float)\n",
    "  X_test = np.array(X_test, dtype=float)\n",
    "  y_train = np.array(y_train, dtype=float).reshape(len(y_train), 1) \n",
    "  y_test = np.array(y_test, dtype=float).reshape((len(y_test), 1))\n",
    "\n",
    "  return X_train, X_test, y_train, y_test"
   ]
  },
  {
   "cell_type": "markdown",
   "metadata": {},
   "source": [
    "## Test działania metod"
   ]
  },
  {
   "cell_type": "code",
   "execution_count": 1,
   "metadata": {},
   "outputs": [],
   "source": [
    "# print(split_working_faulty_blocks())"
   ]
  }
 ],
 "metadata": {
  "kernelspec": {
   "display_name": "Python 3.7.9 64-bit",
   "language": "python",
   "name": "python3"
  },
  "language_info": {
   "codemirror_mode": {
    "name": "ipython",
    "version": 3
   },
   "file_extension": ".py",
   "mimetype": "text/x-python",
   "name": "python",
   "nbconvert_exporter": "python",
   "pygments_lexer": "ipython3",
   "version": "3.7.9"
  },
  "orig_nbformat": 4,
  "vscode": {
   "interpreter": {
    "hash": "000e38771879ee216854cba0fa25fd133311ba4b2285549d21256319664b9ba9"
   }
  }
 },
 "nbformat": 4,
 "nbformat_minor": 2
}
