{
  "nbformat": 4,
  "nbformat_minor": 0,
  "metadata": {
    "colab": {
      "name": "Untitled0.ipynb",
      "provenance": []
    },
    "kernelspec": {
      "name": "python3",
      "display_name": "Python 3"
    },
    "language_info": {
      "name": "python"
    }
  },
  "cells": [
    {
      "cell_type": "markdown",
      "source": [
        "# Budowa podstawowej sieci rekurencyjnej\n",
        "Budujemy przykładowy model z prostą siecią rekurencyjną"
      ],
      "metadata": {
        "id": "nhFqkiBKOsrn"
      }
    },
    {
      "cell_type": "markdown",
      "source": [
        "Podejście \"zwykle\": dzielimy zbior na uczacy i testujacy (ok. 80% danych dla uczacego), bardziej jako przyklad zeby zrobic jakakolwiek siec, pozniej skorzystamy z walidacji krzyżowej."
      ],
      "metadata": {
        "id": "qbH_LBvb54hh"
      }
    },
    {
      "cell_type": "code",
      "source": [
        "import pandas as pd\n",
        "import numpy as np\n",
        "from keras.models import Sequential\n",
        "from keras.layers import SimpleRNN, Dense, Dropout\n",
        "import keras\n",
        "\n",
        "import import_ipynb\n",
        "from data_preprocessing import split_working_faulty_blocks"
      ],
      "metadata": {
        "id": "IGQwYnv87Jyw"
      },
      "execution_count": null,
      "outputs": []
    },
    {
      "cell_type": "code",
      "source": [
        "working_blocks_df, faulty_blocks_df = split_working_faulty_blocks()"
      ],
      "metadata": {
        "id": "g427pHW17KRx"
      },
      "execution_count": null,
      "outputs": []
    },
    {
      "cell_type": "code",
      "source": [
        "# przemieszajmy bloki danych\n",
        "from sklearn.utils import shuffle\n",
        "\n",
        "# utworzmy pakiety danych po 5 chwil czasowych nalezy miec na uwadze\n",
        "# ze dane moga nie byc podzielne akurat przez 5 wiec usunmy kilka chwil czasowych\n",
        "# na koncu obu zbiorow (zapisow dla dzialajacego i niedzialajaceg urzadzenia)\n",
        "working_blocks_rest = len(working_blocks_df) % 5\n",
        "faulty_blocks_rest = len(faulty_blocks_df) % 5\n",
        "\n",
        "working_blocks_df = working_blocks_df[:-working_blocks_rest]\n",
        "faulty_blocks_df = faulty_blocks_df[:-faulty_blocks_rest]\n",
        "\n",
        "working_blocks_packets_df = np.array_split(working_blocks_df, int(len(working_blocks_df) / 5))\n",
        "faulty_blocks_packets_df = np.array_split(faulty_blocks_df, int(len(faulty_blocks_df) / 5))\n",
        "\n",
        "# dodajmy klasy zeby bylo wiadomo co jest czym -> nim przemieszamy pomiedzy klasami\n",
        "working_blocks_packets_with_class = []\n",
        "\n",
        "for i in range(len(working_blocks_packets_df)):\n",
        "  working_blocks_packets_with_class.append( [working_blocks_packets_df[i].to_numpy(), 1] )\n",
        "\n",
        "faulty_blocks_packets_with_class = []\n",
        "\n",
        "for i in range(len(faulty_blocks_packets_df)):\n",
        "  faulty_blocks_packets_with_class.append( [faulty_blocks_packets_df[i].to_numpy(), 0] )\n",
        "\n",
        "input_list_completed = working_blocks_packets_with_class.copy()\n",
        "input_list_completed.extend(faulty_blocks_packets_with_class)\n",
        "\n",
        "# przemieszajmy dane po zlaczeniu\n",
        "input_list_completed = shuffle(input_list_completed)"
      ],
      "metadata": {
        "id": "2a6hhjzJ53ZU"
      },
      "execution_count": null,
      "outputs": []
    },
    {
      "cell_type": "code",
      "source": [
        "# teraz to, co tygrysy lubia najbardziej:\n",
        "# dzielimy dane na uczace i testujace oraz w ich obrebie na parametry wejsciowe i klasy\n",
        "# co daje 4 zbiory\n",
        "from sklearn.model_selection import train_test_split\n",
        "X = []\n",
        "y = []\n",
        "\n",
        "for i in range(len(input_list_completed)):\n",
        "  X.append(input_list_completed[i][0])\n",
        "  y.append(input_list_completed[i][1])\n",
        "\n",
        "# podzielmy dane - 80% na uczace, 20% - testujace\n",
        "X_train, X_test, y_train, y_test = train_test_split(X, y, test_size=0.25)\n",
        "\n",
        "X_train = np.array(X_train, dtype=float)\n",
        "X_test = np.array(X_test, dtype=float)\n",
        "y_train = np.array(y_train, dtype=float).reshape(len(y_train), 1) \n",
        "y_test = np.array(y_test, dtype=float).reshape((len(y_test), 1))\n",
        "\n",
        "# tf.convert_to_tensor(X_train, dtype=tf.float32)\n",
        "# tf.convert_to_tensor(X_test, dtype=tf.float32)\n",
        "\n",
        "print(X_test.shape)\n",
        "print(y_test.shape)"
      ],
      "metadata": {
        "colab": {
          "base_uri": "https://localhost:8080/"
        },
        "id": "0Rw1r6HkWIPC",
        "outputId": "02b2a96d-4d44-47e3-d6fb-f7d80fb26b72"
      },
      "execution_count": null,
      "outputs": [
        {
          "output_type": "stream",
          "name": "stdout",
          "text": [
            "(166, 5, 9)\n",
            "(166, 1)\n"
          ]
        }
      ]
    },
    {
      "cell_type": "code",
      "source": [
        "import tensorflow as tf\n",
        "\n",
        "# typowy sekwencyjny model\n",
        "model = Sequential()\n",
        "# dodajemy warstwe rekurencyjna, input_shape w naszym przypadku bedzie 31 (minut) x 9 parametrow\n",
        "# (nie liczac usunietego uprzednio indeksu wskazujacego z ktora minuta mamy do czynienia)\n",
        "model.add(SimpleRNN(15, input_shape=(5, 9), activation='relu', return_sequences=True))\n",
        "model.add(Dropout(0.2))\n",
        "model.add(SimpleRNN(10, activation='relu', return_sequences=False))\n",
        "# warstwa gesta na wyjscie - najbardziej typowe rozwiazanie\n",
        "\n",
        "# niezmiernie istotne -> binarna entropia krzyzowa wymaga jednego neuronu na wyjsciu\n",
        "model.add(Dense(units=1, activation='tanh'))\n",
        "opt = tf.optimizers.Adam(learning_rate=0.007)\n",
        "model.compile(loss='binary_crossentropy', optimizer=opt, metrics=['accuracy'])"
      ],
      "metadata": {
        "id": "_ishAfWnAwjy"
      },
      "execution_count": null,
      "outputs": []
    },
    {
      "cell_type": "code",
      "source": [
        "# trenowanie modelu\n",
        "history = model.fit(X_train, y_train, epochs=100)"
      ],
      "metadata": {
        "colab": {
          "base_uri": "https://localhost:8080/"
        },
        "id": "KOdtdZ7KKQjO",
        "outputId": "6d9d4af7-7ca4-41fc-dbcf-0f4f77e93665"
      },
      "execution_count": null,
      "outputs": [
        {
          "output_type": "stream",
          "name": "stdout",
          "text": [
            "Epoch 1/100\n",
            "16/16 [==============================] - 2s 4ms/step - loss: 3.8348 - accuracy: 0.4879\n",
            "Epoch 2/100\n",
            "16/16 [==============================] - 0s 5ms/step - loss: 0.9323 - accuracy: 0.4919\n",
            "Epoch 3/100\n",
            "16/16 [==============================] - 0s 4ms/step - loss: 0.7217 - accuracy: 0.5121\n",
            "Epoch 4/100\n",
            "16/16 [==============================] - 0s 4ms/step - loss: 0.7146 - accuracy: 0.4698\n",
            "Epoch 5/100\n",
            "16/16 [==============================] - 0s 4ms/step - loss: 0.7049 - accuracy: 0.4859\n",
            "Epoch 6/100\n",
            "16/16 [==============================] - 0s 4ms/step - loss: 0.6980 - accuracy: 0.4899\n",
            "Epoch 7/100\n",
            "16/16 [==============================] - 0s 4ms/step - loss: 0.6984 - accuracy: 0.5121\n",
            "Epoch 8/100\n",
            "16/16 [==============================] - 0s 4ms/step - loss: 0.6875 - accuracy: 0.5242\n",
            "Epoch 9/100\n",
            "16/16 [==============================] - 0s 4ms/step - loss: 0.6984 - accuracy: 0.5181\n",
            "Epoch 10/100\n",
            "16/16 [==============================] - 0s 4ms/step - loss: 0.6949 - accuracy: 0.5101\n",
            "Epoch 11/100\n",
            "16/16 [==============================] - 0s 5ms/step - loss: 0.6868 - accuracy: 0.5423\n",
            "Epoch 12/100\n",
            "16/16 [==============================] - 0s 4ms/step - loss: 0.6896 - accuracy: 0.5363\n",
            "Epoch 13/100\n",
            "16/16 [==============================] - 0s 5ms/step - loss: 0.6776 - accuracy: 0.5685\n",
            "Epoch 14/100\n",
            "16/16 [==============================] - 0s 4ms/step - loss: 0.6766 - accuracy: 0.5665\n",
            "Epoch 15/100\n",
            "16/16 [==============================] - 0s 4ms/step - loss: 0.6713 - accuracy: 0.5948\n",
            "Epoch 16/100\n",
            "16/16 [==============================] - 0s 4ms/step - loss: 0.6561 - accuracy: 0.5927\n",
            "Epoch 17/100\n",
            "16/16 [==============================] - 0s 4ms/step - loss: 0.6523 - accuracy: 0.6552\n",
            "Epoch 18/100\n",
            "16/16 [==============================] - 0s 4ms/step - loss: 0.6391 - accuracy: 0.6532\n",
            "Epoch 19/100\n",
            "16/16 [==============================] - 0s 4ms/step - loss: 0.6468 - accuracy: 0.6734\n",
            "Epoch 20/100\n",
            "16/16 [==============================] - 0s 4ms/step - loss: 0.7284 - accuracy: 0.6714\n",
            "Epoch 21/100\n",
            "16/16 [==============================] - 0s 4ms/step - loss: 0.6878 - accuracy: 0.6149\n",
            "Epoch 22/100\n",
            "16/16 [==============================] - 0s 4ms/step - loss: 0.6355 - accuracy: 0.6230\n",
            "Epoch 23/100\n",
            "16/16 [==============================] - 0s 4ms/step - loss: 0.6351 - accuracy: 0.6694\n",
            "Epoch 24/100\n",
            "16/16 [==============================] - 0s 5ms/step - loss: 0.7125 - accuracy: 0.6048\n",
            "Epoch 25/100\n",
            "16/16 [==============================] - 0s 4ms/step - loss: 0.6565 - accuracy: 0.5867\n",
            "Epoch 26/100\n",
            "16/16 [==============================] - 0s 4ms/step - loss: 0.6361 - accuracy: 0.6512\n",
            "Epoch 27/100\n",
            "16/16 [==============================] - 0s 4ms/step - loss: 0.6246 - accuracy: 0.6431\n",
            "Epoch 28/100\n",
            "16/16 [==============================] - 0s 4ms/step - loss: 0.6303 - accuracy: 0.6593\n",
            "Epoch 29/100\n",
            "16/16 [==============================] - 0s 4ms/step - loss: 0.6114 - accuracy: 0.6815\n",
            "Epoch 30/100\n",
            "16/16 [==============================] - 0s 4ms/step - loss: 0.6042 - accuracy: 0.6815\n",
            "Epoch 31/100\n",
            "16/16 [==============================] - 0s 5ms/step - loss: 0.6127 - accuracy: 0.6976\n",
            "Epoch 32/100\n",
            "16/16 [==============================] - 0s 4ms/step - loss: 0.6021 - accuracy: 0.7016\n",
            "Epoch 33/100\n",
            "16/16 [==============================] - 0s 4ms/step - loss: 0.6011 - accuracy: 0.7016\n",
            "Epoch 34/100\n",
            "16/16 [==============================] - 0s 4ms/step - loss: 0.6010 - accuracy: 0.6996\n",
            "Epoch 35/100\n",
            "16/16 [==============================] - 0s 4ms/step - loss: 0.6116 - accuracy: 0.6754\n",
            "Epoch 36/100\n",
            "16/16 [==============================] - 0s 4ms/step - loss: 0.6308 - accuracy: 0.6472\n",
            "Epoch 37/100\n",
            "16/16 [==============================] - 0s 4ms/step - loss: 0.5959 - accuracy: 0.7097\n",
            "Epoch 38/100\n",
            "16/16 [==============================] - 0s 4ms/step - loss: 0.5861 - accuracy: 0.7097\n",
            "Epoch 39/100\n",
            "16/16 [==============================] - 0s 5ms/step - loss: 0.5952 - accuracy: 0.7016\n",
            "Epoch 40/100\n",
            "16/16 [==============================] - 0s 4ms/step - loss: 0.5786 - accuracy: 0.7198\n",
            "Epoch 41/100\n",
            "16/16 [==============================] - 0s 4ms/step - loss: 0.6004 - accuracy: 0.6935\n",
            "Epoch 42/100\n",
            "16/16 [==============================] - 0s 4ms/step - loss: 0.6155 - accuracy: 0.6774\n",
            "Epoch 43/100\n",
            "16/16 [==============================] - 0s 4ms/step - loss: 0.5843 - accuracy: 0.6996\n",
            "Epoch 44/100\n",
            "16/16 [==============================] - 0s 4ms/step - loss: 0.5856 - accuracy: 0.7036\n",
            "Epoch 45/100\n",
            "16/16 [==============================] - 0s 4ms/step - loss: 0.5824 - accuracy: 0.7117\n",
            "Epoch 46/100\n",
            "16/16 [==============================] - 0s 4ms/step - loss: 0.5975 - accuracy: 0.7036\n",
            "Epoch 47/100\n",
            "16/16 [==============================] - 0s 4ms/step - loss: 0.5698 - accuracy: 0.7056\n",
            "Epoch 48/100\n",
            "16/16 [==============================] - 0s 4ms/step - loss: 0.5565 - accuracy: 0.7359\n",
            "Epoch 49/100\n",
            "16/16 [==============================] - 0s 4ms/step - loss: 0.5590 - accuracy: 0.7238\n",
            "Epoch 50/100\n",
            "16/16 [==============================] - 0s 4ms/step - loss: 0.5331 - accuracy: 0.7540\n",
            "Epoch 51/100\n",
            "16/16 [==============================] - 0s 5ms/step - loss: 0.5024 - accuracy: 0.7702\n",
            "Epoch 52/100\n",
            "16/16 [==============================] - 0s 4ms/step - loss: 0.5225 - accuracy: 0.7500\n",
            "Epoch 53/100\n",
            "16/16 [==============================] - 0s 4ms/step - loss: 0.4687 - accuracy: 0.7923\n",
            "Epoch 54/100\n",
            "16/16 [==============================] - 0s 4ms/step - loss: 0.4543 - accuracy: 0.8004\n",
            "Epoch 55/100\n",
            "16/16 [==============================] - 0s 4ms/step - loss: 0.4479 - accuracy: 0.8105\n",
            "Epoch 56/100\n",
            "16/16 [==============================] - 0s 4ms/step - loss: 0.6075 - accuracy: 0.6815\n",
            "Epoch 57/100\n",
            "16/16 [==============================] - 0s 5ms/step - loss: 0.5397 - accuracy: 0.7480\n",
            "Epoch 58/100\n",
            "16/16 [==============================] - 0s 4ms/step - loss: 0.4354 - accuracy: 0.8044\n",
            "Epoch 59/100\n",
            "16/16 [==============================] - 0s 5ms/step - loss: 0.3966 - accuracy: 0.8407\n",
            "Epoch 60/100\n",
            "16/16 [==============================] - 0s 4ms/step - loss: 0.3988 - accuracy: 0.8367\n",
            "Epoch 61/100\n",
            "16/16 [==============================] - 0s 4ms/step - loss: 0.4887 - accuracy: 0.7843\n",
            "Epoch 62/100\n",
            "16/16 [==============================] - 0s 4ms/step - loss: 0.3992 - accuracy: 0.8286\n",
            "Epoch 63/100\n",
            "16/16 [==============================] - 0s 4ms/step - loss: 0.3321 - accuracy: 0.8831\n",
            "Epoch 64/100\n",
            "16/16 [==============================] - 0s 4ms/step - loss: 0.5009 - accuracy: 0.7560\n",
            "Epoch 65/100\n",
            "16/16 [==============================] - 0s 4ms/step - loss: 0.3887 - accuracy: 0.8528\n",
            "Epoch 66/100\n",
            "16/16 [==============================] - 0s 4ms/step - loss: 0.3255 - accuracy: 0.8770\n",
            "Epoch 67/100\n",
            "16/16 [==============================] - 0s 4ms/step - loss: 0.3318 - accuracy: 0.8831\n",
            "Epoch 68/100\n",
            "16/16 [==============================] - 0s 4ms/step - loss: 0.5820 - accuracy: 0.7117\n",
            "Epoch 69/100\n",
            "16/16 [==============================] - 0s 5ms/step - loss: 0.5783 - accuracy: 0.6895\n",
            "Epoch 70/100\n",
            "16/16 [==============================] - 0s 4ms/step - loss: 0.5431 - accuracy: 0.7581\n",
            "Epoch 71/100\n",
            "16/16 [==============================] - 0s 4ms/step - loss: 0.4469 - accuracy: 0.8327\n",
            "Epoch 72/100\n",
            "16/16 [==============================] - 0s 4ms/step - loss: 0.3419 - accuracy: 0.8831\n",
            "Epoch 73/100\n",
            "16/16 [==============================] - 0s 5ms/step - loss: 0.3251 - accuracy: 0.8790\n",
            "Epoch 74/100\n",
            "16/16 [==============================] - 0s 4ms/step - loss: 0.3186 - accuracy: 0.8831\n",
            "Epoch 75/100\n",
            "16/16 [==============================] - 0s 4ms/step - loss: 0.3147 - accuracy: 0.8790\n",
            "Epoch 76/100\n",
            "16/16 [==============================] - 0s 4ms/step - loss: 0.3419 - accuracy: 0.8690\n",
            "Epoch 77/100\n",
            "16/16 [==============================] - 0s 4ms/step - loss: 0.2814 - accuracy: 0.9073\n",
            "Epoch 78/100\n",
            "16/16 [==============================] - 0s 5ms/step - loss: 0.2930 - accuracy: 0.8952\n",
            "Epoch 79/100\n",
            "16/16 [==============================] - 0s 4ms/step - loss: 0.2807 - accuracy: 0.9012\n",
            "Epoch 80/100\n",
            "16/16 [==============================] - 0s 4ms/step - loss: 0.2542 - accuracy: 0.9153\n",
            "Epoch 81/100\n",
            "16/16 [==============================] - 0s 4ms/step - loss: 0.2574 - accuracy: 0.9173\n",
            "Epoch 82/100\n",
            "16/16 [==============================] - 0s 4ms/step - loss: 0.4748 - accuracy: 0.7923\n",
            "Epoch 83/100\n",
            "16/16 [==============================] - 0s 4ms/step - loss: 0.3819 - accuracy: 0.8387\n",
            "Epoch 84/100\n",
            "16/16 [==============================] - 0s 5ms/step - loss: 0.3396 - accuracy: 0.8710\n",
            "Epoch 85/100\n",
            "16/16 [==============================] - 0s 5ms/step - loss: 0.2721 - accuracy: 0.8952\n",
            "Epoch 86/100\n",
            "16/16 [==============================] - 0s 5ms/step - loss: 0.2940 - accuracy: 0.8911\n",
            "Epoch 87/100\n",
            "16/16 [==============================] - 0s 4ms/step - loss: 0.3350 - accuracy: 0.8589\n",
            "Epoch 88/100\n",
            "16/16 [==============================] - 0s 4ms/step - loss: 0.2839 - accuracy: 0.8992\n",
            "Epoch 89/100\n",
            "16/16 [==============================] - 0s 4ms/step - loss: 0.2760 - accuracy: 0.8851\n",
            "Epoch 90/100\n",
            "16/16 [==============================] - 0s 4ms/step - loss: 0.2979 - accuracy: 0.8911\n",
            "Epoch 91/100\n",
            "16/16 [==============================] - 0s 5ms/step - loss: 0.6173 - accuracy: 0.6734\n",
            "Epoch 92/100\n",
            "16/16 [==============================] - 0s 5ms/step - loss: 0.3337 - accuracy: 0.8831\n",
            "Epoch 93/100\n",
            "16/16 [==============================] - 0s 4ms/step - loss: 0.2890 - accuracy: 0.8790\n",
            "Epoch 94/100\n",
            "16/16 [==============================] - 0s 5ms/step - loss: 0.3240 - accuracy: 0.8730\n",
            "Epoch 95/100\n",
            "16/16 [==============================] - 0s 4ms/step - loss: 0.2451 - accuracy: 0.9194\n",
            "Epoch 96/100\n",
            "16/16 [==============================] - 0s 5ms/step - loss: 0.3281 - accuracy: 0.8810\n",
            "Epoch 97/100\n",
            "16/16 [==============================] - 0s 4ms/step - loss: 0.3536 - accuracy: 0.8569\n",
            "Epoch 98/100\n",
            "16/16 [==============================] - 0s 4ms/step - loss: 0.2472 - accuracy: 0.9113\n",
            "Epoch 99/100\n",
            "16/16 [==============================] - 0s 4ms/step - loss: 0.2249 - accuracy: 0.9254\n",
            "Epoch 100/100\n",
            "16/16 [==============================] - 0s 5ms/step - loss: 0.2498 - accuracy: 0.9093\n"
          ]
        }
      ]
    },
    {
      "cell_type": "code",
      "source": [
        "print(max(history.history['accuracy']))\n",
        "\n",
        "import matplotlib.pyplot as plt\n",
        "plt.plot(history.history['accuracy'])\n",
        "plt.xlabel('nr epoki')\n",
        "plt.ylabel('skutecznosc (accuracy)')\n",
        "\n",
        "#validation_data=(X_test, y_test))"
      ],
      "metadata": {
        "colab": {
          "base_uri": "https://localhost:8080/",
          "height": 314
        },
        "id": "6FEBZckYOOL9",
        "outputId": "800279c5-a2ee-4a06-b627-92ac653db7f0"
      },
      "execution_count": null,
      "outputs": [
        {
          "output_type": "stream",
          "name": "stdout",
          "text": [
            "0.9254032373428345\n"
          ]
        },
        {
          "output_type": "execute_result",
          "data": {
            "text/plain": [
              "Text(0, 0.5, 'skutecznosc (accuracy)')"
            ]
          },
          "metadata": {},
          "execution_count": 120
        },
        {
          "output_type": "display_data",
          "data": {
            "text/plain": [
              "<Figure size 432x288 with 1 Axes>"
            ],
            "image/png": "[encoded data removed]"
          },
          "metadata": {
            "needs_background": "light"
          }
        }
      ]
    },
    {
      "cell_type": "code",
      "source": [
        "predictions = model.predict(X_test)\n",
        "\n",
        "counter = 0\n",
        "confusion_matrix=np.zeros((2, 2))\n",
        "\n",
        "for i in range(len(predictions)):\n",
        "  class_prediction = 0\n",
        "  if predictions[i] >= 0.5:\n",
        "    class_prediction = 1\n",
        "\n",
        "  if class_prediction == y_test[i]:\n",
        "    confusion_matrix[class_prediction][class_prediction] += 1\n",
        "  else:\n",
        "    print(f'Niepoprawna predykcja, oczekiwany: {y_test[i]}, otrzymano: {class_prediction}')\n",
        "    confusion_matrix[(class_prediction + 1) % 2][class_prediction] += 1\n",
        "\n",
        "sns.heatmap(confusion_matrix, annot=True)\n",
        "print(f'Poprawne przyporzadkowania to: {(confusion_matrix[0][0] + confusion_matrix[1][1]) / len(y_test) * 100} % wszystkich przyporzadkowan')"
      ],
      "metadata": {
        "colab": {
          "base_uri": "https://localhost:8080/",
          "height": 612
        },
        "id": "maCG_dA2Is39",
        "outputId": "80bd44cb-593d-46cb-acb6-2998dee49511"
      },
      "execution_count": null,
      "outputs": [
        {
          "output_type": "stream",
          "name": "stdout",
          "text": [
            "Niepoprawna predykcja, oczekiwany: [1.], otrzymano: 0\n",
            "Niepoprawna predykcja, oczekiwany: [1.], otrzymano: 0\n",
            "Niepoprawna predykcja, oczekiwany: [0.], otrzymano: 1\n",
            "Niepoprawna predykcja, oczekiwany: [1.], otrzymano: 0\n",
            "Niepoprawna predykcja, oczekiwany: [1.], otrzymano: 0\n",
            "Niepoprawna predykcja, oczekiwany: [1.], otrzymano: 0\n",
            "Niepoprawna predykcja, oczekiwany: [0.], otrzymano: 1\n",
            "Niepoprawna predykcja, oczekiwany: [1.], otrzymano: 0\n",
            "Niepoprawna predykcja, oczekiwany: [1.], otrzymano: 0\n",
            "Niepoprawna predykcja, oczekiwany: [1.], otrzymano: 0\n",
            "Niepoprawna predykcja, oczekiwany: [0.], otrzymano: 1\n",
            "Niepoprawna predykcja, oczekiwany: [1.], otrzymano: 0\n",
            "Niepoprawna predykcja, oczekiwany: [1.], otrzymano: 0\n",
            "Niepoprawna predykcja, oczekiwany: [0.], otrzymano: 1\n",
            "Niepoprawna predykcja, oczekiwany: [0.], otrzymano: 1\n",
            "Niepoprawna predykcja, oczekiwany: [1.], otrzymano: 0\n",
            "Niepoprawna predykcja, oczekiwany: [1.], otrzymano: 0\n",
            "Niepoprawna predykcja, oczekiwany: [1.], otrzymano: 0\n",
            "Niepoprawna predykcja, oczekiwany: [1.], otrzymano: 0\n",
            "Poprawne przyporzadkowania to: 88.55421686746988 % wszystkich przyporzadkowan\n"
          ]
        },
        {
          "output_type": "display_data",
          "data": {
            "text/plain": [
              "<Figure size 432x288 with 2 Axes>"
            ],
            "image/png": "[encoded data removed]"
          },
          "metadata": {
            "needs_background": "light"
          }
        }
      ]
    }
  ]
}