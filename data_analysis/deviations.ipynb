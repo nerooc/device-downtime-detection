{
 "cells": [
  {
   "cell_type": "markdown",
   "metadata": {},
   "source": [
    "# Odchylenia"
   ]
  },
  {
   "cell_type": "code",
   "execution_count": 4,
   "metadata": {},
   "outputs": [
    {
     "name": "stdout",
     "output_type": "stream",
     "text": [
      "/Users/nerooc/Documents/Studia/device-downtime-detection\n"
     ]
    }
   ],
   "source": [
    "# By zaimportować moduły z głównego folderu\n",
    "%cd .."
   ]
  },
  {
   "cell_type": "code",
   "execution_count": 5,
   "metadata": {},
   "outputs": [
    {
     "name": "stdout",
     "output_type": "stream",
     "text": [
      "importing Jupyter notebook from data_preprocessing.ipynb\n"
     ]
    }
   ],
   "source": [
    "import import_ipynb\n",
    "import numpy as np\n",
    "from data_preprocessing import split_working_faulty_blocks"
   ]
  },
  {
   "cell_type": "code",
   "execution_count": 6,
   "metadata": {},
   "outputs": [],
   "source": [
    "working_blocks_df, faulty_blocks_df = split_working_faulty_blocks()\n",
    "\n",
    "working_blocks = working_blocks_df.values.tolist()\n",
    "faulty_blocks = faulty_blocks_df.values.tolist()"
   ]
  },
  {
   "cell_type": "code",
   "execution_count": 7,
   "metadata": {},
   "outputs": [
    {
     "name": "stdout",
     "output_type": "stream",
     "text": [
      "Odchylenie standardowe dla jednego bloku działającego \n",
      "\n",
      "199.57644100060793\n",
      "\n",
      "Odchylenia standardowe dla wszystkich dostępnych bloków działających\n",
      "\n",
      "[  0.77804698   2.48203295   0.48216089   4.13310987 231.34867732\n",
      "   0.56222466  11.11604329   1.7205251    1.20494118]\n",
      "Odchylenie standardowe dla jednego bloku działającego \n",
      "\n",
      "33.53215519615113\n",
      "\n",
      "Odchylenia standardowe dla wszystkich dostępnych bloków działających (awaryjnych)\n",
      "\n",
      "[  1.21440739   2.80061373   0.74227834   4.8356115  237.33559171\n",
      "   0.42047659  11.28848441   2.30357835   0.90805958]\n"
     ]
    }
   ],
   "source": [
    "# Bloki działające\n",
    "\n",
    "# Odchylenie standardowe dla jednego bloku działającego\n",
    "print('Odchylenie standardowe dla jednego bloku działającego \\n')\n",
    "print(np.std(working_blocks[0], axis=0))\n",
    "\n",
    "# Odchylenia standardowe dla wszystkich dostępnych bloków działających\n",
    "print('\\nOdchylenia standardowe dla wszystkich dostępnych bloków działających\\n')\n",
    "print(np.std(working_blocks, axis=0))\n",
    "\n",
    "\n",
    "# Bloki niedziałające\n",
    "\n",
    "# Odchylenie standardowe dla jednego bloku niedziałającego\n",
    "print('Odchylenie standardowe dla jednego bloku działającego \\n')\n",
    "print(np.std(faulty_blocks[0], axis=0))\n",
    "\n",
    "# Odchylenia standardowe dla wszystkich dostępnych bloków niedziałających\n",
    "print('\\nOdchylenia standardowe dla wszystkich dostępnych bloków działających (awaryjnych)\\n')\n",
    "print(np.std(faulty_blocks, axis=0))\n"
   ]
  }
 ],
 "metadata": {
  "interpreter": {
   "hash": "397704579725e15f5c7cb49fe5f0341eb7531c82d19f2c29d197e8b64ab5776b"
  },
  "kernelspec": {
   "display_name": "Python 3.9.13 64-bit",
   "language": "python",
   "name": "python3"
  },
  "language_info": {
   "codemirror_mode": {
    "name": "ipython",
    "version": 3
   },
   "file_extension": ".py",
   "mimetype": "text/x-python",
   "name": "python",
   "nbconvert_exporter": "python",
   "pygments_lexer": "ipython3",
   "version": "3.9.13"
  },
  "orig_nbformat": 4
 },
 "nbformat": 4,
 "nbformat_minor": 2
}
