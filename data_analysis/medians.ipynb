{
 "cells": [
  {
   "cell_type": "markdown",
   "metadata": {},
   "source": [
    "# Mediany"
   ]
  },
  {
   "cell_type": "code",
   "execution_count": 3,
   "metadata": {},
   "outputs": [
    {
     "name": "stdout",
     "output_type": "stream",
     "text": [
      "/Users/nerooc/Documents/Studia/device-downtime-detection\n"
     ]
    }
   ],
   "source": [
    "# By zaimportować moduły z głównego folderu\n",
    "%cd .."
   ]
  },
  {
   "cell_type": "code",
   "execution_count": 4,
   "metadata": {},
   "outputs": [
    {
     "name": "stdout",
     "output_type": "stream",
     "text": [
      "importing Jupyter notebook from data_preprocessing.ipynb\n"
     ]
    }
   ],
   "source": [
    "import import_ipynb\n",
    "import numpy as np\n",
    "from data_preprocessing import split_working_faulty_blocks"
   ]
  },
  {
   "cell_type": "code",
   "execution_count": 5,
   "metadata": {},
   "outputs": [],
   "source": [
    "working_blocks_df, faulty_blocks_df = split_working_faulty_blocks()\n",
    "\n",
    "working_blocks = working_blocks_df.values.tolist()\n",
    "faulty_blocks = faulty_blocks_df.values.tolist()"
   ]
  },
  {
   "cell_type": "code",
   "execution_count": 6,
   "metadata": {},
   "outputs": [
    {
     "name": "stdout",
     "output_type": "stream",
     "text": [
      "Mediana dla jednego bloku działającego \n",
      "\n",
      "24.0\n",
      "\n",
      "Mediany dla wszystkich dostępnych bloków działających\n",
      "\n",
      "[ 30.4  16.   21.5  27.  180.    5.9  59.7  35.9  15.9]\n",
      "Mediana dla jednego bloku działającego \n",
      "\n",
      "25.0\n",
      "\n",
      "Mediany dla wszystkich dostępnych bloków działających (awaryjnych)\n",
      "\n",
      "[ 31.2  19.   21.4  33.  240.    5.8  61.4  38.6  16.2]\n"
     ]
    }
   ],
   "source": [
    "# Bloki działające\n",
    "\n",
    "# Mediana dla jednego bloku działającego\n",
    "print('Mediana dla jednego bloku działającego \\n')\n",
    "print(np.median(working_blocks[0], axis=0))\n",
    "\n",
    "# Mediany dla wszystkich dostępnych bloków działających\n",
    "print('\\nMediany dla wszystkich dostępnych bloków działających\\n')\n",
    "print(np.median(working_blocks, axis=0))\n",
    "\n",
    "\n",
    "# Bloki niedziałające\n",
    "\n",
    "# Mediana dla jednego bloku niedziałającego\n",
    "print('Mediana dla jednego bloku działającego \\n')\n",
    "print(np.median(faulty_blocks[0], axis=0))\n",
    "\n",
    "# Mediany dla wszystkich dostępnych bloków niedziałających\n",
    "print('\\nMediany dla wszystkich dostępnych bloków działających (awaryjnych)\\n')\n",
    "print(np.median(faulty_blocks, axis=0))\n"
   ]
  }
 ],
 "metadata": {
  "interpreter": {
   "hash": "397704579725e15f5c7cb49fe5f0341eb7531c82d19f2c29d197e8b64ab5776b"
  },
  "kernelspec": {
   "display_name": "Python 3.9.13 64-bit",
   "language": "python",
   "name": "python3"
  },
  "language_info": {
   "codemirror_mode": {
    "name": "ipython",
    "version": 3
   },
   "file_extension": ".py",
   "mimetype": "text/x-python",
   "name": "python",
   "nbconvert_exporter": "python",
   "pygments_lexer": "ipython3",
   "version": "3.9.13"
  },
  "orig_nbformat": 4
 },
 "nbformat": 4,
 "nbformat_minor": 2
}
