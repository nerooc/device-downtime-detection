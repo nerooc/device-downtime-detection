{
 "cells": [
  {
   "cell_type": "markdown",
   "metadata": {},
   "source": [
    "# Średnie"
   ]
  },
  {
   "cell_type": "code",
   "execution_count": 2,
   "metadata": {},
   "outputs": [
    {
     "name": "stdout",
     "output_type": "stream",
     "text": [
      "/Users/nerooc/Documents/Studia/device-downtime-detection\n"
     ]
    }
   ],
   "source": [
    "# By zaimportować moduły z głównego folderu\n",
    "%cd .."
   ]
  },
  {
   "cell_type": "code",
   "execution_count": 7,
   "metadata": {},
   "outputs": [],
   "source": [
    "import import_ipynb\n",
    "import numpy as np\n",
    "from data_preprocessing import split_working_faulty_blocks"
   ]
  },
  {
   "cell_type": "code",
   "execution_count": 9,
   "metadata": {},
   "outputs": [],
   "source": [
    "working_blocks_df, faulty_blocks_df = split_working_faulty_blocks()\n",
    "\n",
    "working_blocks = working_blocks_df.values.tolist()\n",
    "faulty_blocks = faulty_blocks_df.values.tolist()"
   ]
  },
  {
   "cell_type": "code",
   "execution_count": 12,
   "metadata": {},
   "outputs": [
    {
     "name": "stdout",
     "output_type": "stream",
     "text": [
      "Średnia dla jednego bloku działającego \n",
      "\n",
      "0.8184809960318495\n",
      "\n",
      "Średnie dla wszystkich dostępnych bloków działających\n",
      "\n",
      "[0.93289994 0.67716575 0.94900159 0.71989621 0.46782493 0.66716711\n",
      " 0.78954673 0.90357706 0.7108166 ]\n",
      "Średnia dla jednego bloku działającego \n",
      "\n",
      "0.6882930599852792\n",
      "\n",
      "Średnie dla wszystkich dostępnych bloków działających (awaryjnych)\n",
      "\n",
      "[0.89377601 0.74637993 0.93621689 0.78005348 0.4891387  0.67902392\n",
      " 0.769403   0.87946702 0.72067064]\n"
     ]
    }
   ],
   "source": [
    "# Bloki działające\n",
    "\n",
    "# Średnia dla jednego bloku działającego\n",
    "print('Średnia dla jednego bloku działającego \\n')\n",
    "print(np.mean(working_blocks[0], axis=0))\n",
    "\n",
    "# Średnie dla wszystkich dostępnych bloków działających\n",
    "print('\\nŚrednie dla wszystkich dostępnych bloków działających\\n')\n",
    "print(np.mean(working_blocks, axis=0))\n",
    "\n",
    "\n",
    "# Bloki niedziałające\n",
    "\n",
    "# Średnia dla jednego bloku niedziałającego\n",
    "print('Średnia dla jednego bloku działającego \\n')\n",
    "print(np.mean(faulty_blocks[0], axis=0))\n",
    "\n",
    "# Średnie dla wszystkich dostępnych bloków niedziałających\n",
    "print('\\nŚrednie dla wszystkich dostępnych bloków działających (awaryjnych)\\n')\n",
    "print(np.mean(faulty_blocks, axis=0))\n"
   ]
  }
 ],
 "metadata": {
  "interpreter": {
   "hash": "397704579725e15f5c7cb49fe5f0341eb7531c82d19f2c29d197e8b64ab5776b"
  },
  "kernelspec": {
   "display_name": "Python 3.9.13 64-bit",
   "language": "python",
   "name": "python3"
  },
  "language_info": {
   "codemirror_mode": {
    "name": "ipython",
    "version": 3
   },
   "file_extension": ".py",
   "mimetype": "text/x-python",
   "name": "python",
   "nbconvert_exporter": "python",
   "pygments_lexer": "ipython3",
   "version": "3.9.13"
  },
  "orig_nbformat": 4
 },
 "nbformat": 4,
 "nbformat_minor": 2
}
